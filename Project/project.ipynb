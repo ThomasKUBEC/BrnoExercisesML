{
  "nbformat": 4,
  "nbformat_minor": 0,
  "metadata": {
    "colab": {
      "provenance": []
    },
    "kernelspec": {
      "name": "python3",
      "display_name": "Python 3"
    },
    "language_info": {
      "name": "python"
    },
    "accelerator": "GPU",
    "gpuClass": "standard"
  },
  "cells": [
    {
      "cell_type": "markdown",
      "source": [
        "IMPORTS:"
      ],
      "metadata": {
        "id": "lyr04PwiKIsB"
      }
    },
    {
      "cell_type": "code",
      "execution_count": 88,
      "metadata": {
        "id": "y4fnojvyfB82"
      },
      "outputs": [],
      "source": [
        "from keras.models import Sequential\n",
        "from keras.layers import Dense, Flatten\n",
        "from keras.optimizers import SGD, Adam\n",
        "import matplotlib.pyplot as plt\n",
        "import matplotlib\n",
        "import numpy as np\n",
        "import cv2\n",
        "import pandas as pd\n",
        "from sklearn.preprocessing import StandardScaler"
      ]
    },
    {
      "cell_type": "code",
      "source": [
        "path_to_x_test = 'x_test.csv' \n",
        "path_to_y_train = 'y_train.csv' \n",
        "path_to_x_train = 'x_train.csv' "
      ],
      "metadata": {
        "id": "LSVZRv70j0XM"
      },
      "execution_count": 89,
      "outputs": []
    },
    {
      "cell_type": "code",
      "source": [
        "x_test_dataset = pd.read_csv(path_to_x_test)\n",
        "x_train_dataset = pd.read_csv(path_to_x_train)\n",
        "y_train_dataset = pd.read_csv(path_to_y_train)"
      ],
      "metadata": {
        "id": "wzcqXbaSk22f"
      },
      "execution_count": 90,
      "outputs": []
    },
    {
      "cell_type": "markdown",
      "source": [
        "PREPROCESSING :"
      ],
      "metadata": {
        "id": "qt6wtCLal0do"
      }
    },
    {
      "cell_type": "code",
      "source": [
        "scaler = StandardScaler()\n",
        "\n",
        "def preprocessdata(dataframe):\n",
        "  dataframe = dataframe.drop(columns=['Tosc','Tmix','m_power'])  \n",
        "  dataframe = scaler.fit_transform(dataframe)\n",
        "  return dataframe\n",
        "\n",
        "x_test_dataset = preprocessdata(x_test_dataset)\n",
        "x_train_dataset = preprocessdata(x_train_dataset)\n",
        "y_train_dataset = y_train_dataset - 1"
      ],
      "metadata": {
        "id": "MjoUyHIml2SS"
      },
      "execution_count": 91,
      "outputs": []
    },
    {
      "cell_type": "code",
      "source": [
        "model = Sequential()\n",
        "model.add(Dense(8, activation='sigmoid'))\n",
        "model.add(Dense(64, activation='sigmoid'))\n",
        "model.add(Dense(8, activation='softmax')) "
      ],
      "metadata": {
        "id": "5kHEuAWwoI_S"
      },
      "execution_count": 92,
      "outputs": []
    },
    {
      "cell_type": "code",
      "source": [
        "#optimizer = SGD(learning_rate = 0.01)\n",
        "optimizer = 'ADAM'\n",
        "model.compile(loss='sparse_categorical_crossentropy', optimizer=optimizer, metrics=['accuracy'])\n",
        "history = model.fit(x_train_dataset, y_train_dataset[y_train_dataset.columns[1]], epochs=30, batch_size=64, verbose = 1)"
      ],
      "metadata": {
        "colab": {
          "base_uri": "https://localhost:8080/"
        },
        "id": "pS-WzyGGrqLe",
        "outputId": "2a09077c-33c8-4650-c887-d4970e65cf38"
      },
      "execution_count": 93,
      "outputs": [
        {
          "output_type": "stream",
          "name": "stdout",
          "text": [
            "Epoch 1/30\n",
            "240/240 [==============================] - 2s 3ms/step - loss: 1.9505 - accuracy: 0.3059\n",
            "Epoch 2/30\n",
            "240/240 [==============================] - 1s 3ms/step - loss: 1.4393 - accuracy: 0.6380\n",
            "Epoch 3/30\n",
            "240/240 [==============================] - 1s 3ms/step - loss: 1.0147 - accuracy: 0.8299\n",
            "Epoch 4/30\n",
            "240/240 [==============================] - 1s 3ms/step - loss: 0.6809 - accuracy: 0.8945\n",
            "Epoch 5/30\n",
            "240/240 [==============================] - 1s 3ms/step - loss: 0.4668 - accuracy: 0.9236\n",
            "Epoch 6/30\n",
            "240/240 [==============================] - 1s 3ms/step - loss: 0.3320 - accuracy: 0.9464\n",
            "Epoch 7/30\n",
            "240/240 [==============================] - 1s 3ms/step - loss: 0.2448 - accuracy: 0.9604\n",
            "Epoch 8/30\n",
            "240/240 [==============================] - 1s 3ms/step - loss: 0.1851 - accuracy: 0.9712\n",
            "Epoch 9/30\n",
            "240/240 [==============================] - 1s 3ms/step - loss: 0.1401 - accuracy: 0.9784\n",
            "Epoch 10/30\n",
            "240/240 [==============================] - 1s 4ms/step - loss: 0.1055 - accuracy: 0.9844\n",
            "Epoch 11/30\n",
            "240/240 [==============================] - 1s 4ms/step - loss: 0.0789 - accuracy: 0.9898\n",
            "Epoch 12/30\n",
            "240/240 [==============================] - 1s 3ms/step - loss: 0.0598 - accuracy: 0.9938\n",
            "Epoch 13/30\n",
            "240/240 [==============================] - 1s 3ms/step - loss: 0.0463 - accuracy: 0.9961\n",
            "Epoch 14/30\n",
            "240/240 [==============================] - 1s 3ms/step - loss: 0.0367 - accuracy: 0.9970\n",
            "Epoch 15/30\n",
            "240/240 [==============================] - 1s 3ms/step - loss: 0.0299 - accuracy: 0.9975\n",
            "Epoch 16/30\n",
            "240/240 [==============================] - 1s 3ms/step - loss: 0.0247 - accuracy: 0.9978\n",
            "Epoch 17/30\n",
            "240/240 [==============================] - 1s 3ms/step - loss: 0.0208 - accuracy: 0.9978\n",
            "Epoch 18/30\n",
            "240/240 [==============================] - 1s 3ms/step - loss: 0.0179 - accuracy: 0.9979\n",
            "Epoch 19/30\n",
            "240/240 [==============================] - 1s 3ms/step - loss: 0.0155 - accuracy: 0.9981\n",
            "Epoch 20/30\n",
            "240/240 [==============================] - 1s 3ms/step - loss: 0.0135 - accuracy: 0.9982\n",
            "Epoch 21/30\n",
            "240/240 [==============================] - 1s 3ms/step - loss: 0.0120 - accuracy: 0.9983\n",
            "Epoch 22/30\n",
            "240/240 [==============================] - 1s 3ms/step - loss: 0.0106 - accuracy: 0.9984\n",
            "Epoch 23/30\n",
            "240/240 [==============================] - 1s 3ms/step - loss: 0.0094 - accuracy: 0.9986\n",
            "Epoch 24/30\n",
            "240/240 [==============================] - 1s 3ms/step - loss: 0.0086 - accuracy: 0.9988\n",
            "Epoch 25/30\n",
            "240/240 [==============================] - 1s 3ms/step - loss: 0.0077 - accuracy: 0.9990\n",
            "Epoch 26/30\n",
            "240/240 [==============================] - 1s 3ms/step - loss: 0.0069 - accuracy: 0.9988\n",
            "Epoch 27/30\n",
            "240/240 [==============================] - 1s 3ms/step - loss: 0.0063 - accuracy: 0.9991\n",
            "Epoch 28/30\n",
            "240/240 [==============================] - 1s 4ms/step - loss: 0.0058 - accuracy: 0.9990\n",
            "Epoch 29/30\n",
            "240/240 [==============================] - 1s 4ms/step - loss: 0.0053 - accuracy: 0.9993\n",
            "Epoch 30/30\n",
            "240/240 [==============================] - 1s 3ms/step - loss: 0.0049 - accuracy: 0.9993\n"
          ]
        }
      ]
    },
    {
      "cell_type": "markdown",
      "source": [],
      "metadata": {
        "id": "J_1-h1wLDztB"
      }
    },
    {
      "cell_type": "code",
      "source": [
        "y_predicted = model.predict(x_test_dataset)\n",
        "\n",
        "dataset = pd.DataFrame(data=np.argmax(y_predicted, axis=1) + 1, columns=[\"target\"])\n",
        "dataset.index.name = \"id\"\n",
        "dataset.to_csv(\"results.csv\", index=True)\n"
      ],
      "metadata": {
        "colab": {
          "base_uri": "https://localhost:8080/"
        },
        "id": "p5eYXaRZGN2L",
        "outputId": "f48973c1-17f8-4e9f-d696-78d73a74efbc"
      },
      "execution_count": 94,
      "outputs": [
        {
          "output_type": "stream",
          "name": "stdout",
          "text": [
            "120/120 [==============================] - 0s 1ms/step\n"
          ]
        }
      ]
    },
    {
      "cell_type": "markdown",
      "source": [
        "SVM"
      ],
      "metadata": {
        "id": "57t-BY6Wk0yg"
      }
    },
    {
      "cell_type": "code",
      "source": [
        "from sklearn.svm import SVC\n",
        "from sklearn.model_selection import train_test_split"
      ],
      "metadata": {
        "id": "mG_N94JWlImU"
      },
      "execution_count": 95,
      "outputs": []
    },
    {
      "cell_type": "code",
      "source": [
        "x_train_dataset = pd.read_csv(path_to_x_train)\n",
        "y_train_dataset = pd.read_csv(path_to_y_train)\n",
        "\n",
        "x_train_dataset = preprocessdata(x_train_dataset)\n",
        "y_train_dataset = y_train_dataset - 1\n",
        "\n",
        "x_train, x_test, y_train, y_test = train_test_split(x_train_dataset,y_train_dataset[y_train_dataset.columns[1]],test_size=0.2)"
      ],
      "metadata": {
        "id": "AXdE78GVlQUO"
      },
      "execution_count": 105,
      "outputs": []
    },
    {
      "cell_type": "code",
      "source": [
        "kernel='linear'\n",
        "SVMmodel = SVC(kernel=kernel).fit(x_train,y_train)\n",
        "SVMmodel.get_params()\n",
        "score = SVMmodel.score(x_test,y_test)\n",
        "print(\"SVM accuracy = \" + str(score))"
      ],
      "metadata": {
        "colab": {
          "base_uri": "https://localhost:8080/"
        },
        "id": "DOARkGtsmkF8",
        "outputId": "732bc05e-f6e0-4eb5-c339-d3e04d7da3af"
      },
      "execution_count": 106,
      "outputs": [
        {
          "output_type": "stream",
          "name": "stdout",
          "text": [
            "SVM accuracy = 1.0\n"
          ]
        }
      ]
    }
  ]
}